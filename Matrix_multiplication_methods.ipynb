{
  "nbformat": 4,
  "nbformat_minor": 0,
  "metadata": {
    "colab": {
      "provenance": []
    },
    "kernelspec": {
      "name": "python3",
      "display_name": "Python 3"
    },
    "language_info": {
      "name": "python"
    }
  },
  "cells": [
    {
      "cell_type": "code",
      "source": [
        "# 3 for loop method\n",
        "def mul(A,B):\n",
        "  C = []\n",
        "  q = 0\n",
        "  n = len(A)\n",
        "  for k in range(n):\n",
        "    for i in range(n):\n",
        "      q = 0\n",
        "      for j in range(n):\n",
        "          q += A[k][j] * B[j][i]\n",
        "      C[k][i] = q\n",
        "  return C\n",
        "\n",
        "\n",
        "# divide and conquer method\n",
        "import numpy as np\n",
        "def split(m):\n",
        "  n = len(m)\n",
        "  return m[:n//2, :n//2],m[:n//2, n//2:], m[n//2:, :n//2],  m[n//2:, n//2:]\n",
        "\n",
        "def alg(a,b,n):\n",
        "  a11,a12,a21,a22 = split(a)\n",
        "  b11,b12,b21,b22 = split(b)\n",
        "  if n <= 2:\n",
        "    c11 = a11*b11+a12*b21\n",
        "    c12 = a11*b12+a12*b22\n",
        "    c21 = a21*b11 + a22*b21\n",
        "    c22 = a21*b12 + a22*b22\n",
        "    top = np.hstack((c11,c12))\n",
        "    bottom = np.hstack((c21,c22))\n",
        "    return np.vstack((top,bottom))\n",
        "\n",
        "  c11 = alg(a11,b11,len(a11)) + alg(a12,b21,len(a12))\n",
        "  c12 = alg(a11,b12,len(a11)) + alg(a12,b22,len(a12))\n",
        "  c21 = alg(a21,b11,len(a21)) + alg(a22,b21,len(a22))\n",
        "  c22 = alg(a21,b12,len(a21)) + alg(a22,b22,len(a22))\n",
        "  top = np.hstack((c11,c12))\n",
        "  bottom = np.hstack((c21,c22))\n",
        "  return np.vstack((top,bottom))\n",
        "\n",
        "a = np.array([[2,3,4,5],[1,2,3,4],[4,5,6,7],[5,4,6,7]])\n",
        "b = np.array([[1,2,3,4],[2,3,4,5],[6,5,4,3],[1,2,22,54]])\n",
        "n = len(a)\n",
        "\n",
        "print(alg(a,b,n))\n"
      ],
      "metadata": {
        "colab": {
          "base_uri": "https://localhost:8080/"
        },
        "id": "v7V1TkRLiCvR",
        "outputId": "9acc960a-55bf-4fcb-906f-c25c98c0c6d1"
      },
      "execution_count": 26,
      "outputs": [
        {
          "output_type": "stream",
          "name": "stdout",
          "text": [
            "[[ 37  43 144 305]\n",
            " [ 27  31 111 239]\n",
            " [ 57  67 210 437]\n",
            " [ 56  66 209 436]]\n"
          ]
        }
      ]
    },
    {
      "cell_type": "code",
      "source": [],
      "metadata": {
        "id": "v-c2oyB4qUgA"
      },
      "execution_count": null,
      "outputs": []
    }
  ]
}