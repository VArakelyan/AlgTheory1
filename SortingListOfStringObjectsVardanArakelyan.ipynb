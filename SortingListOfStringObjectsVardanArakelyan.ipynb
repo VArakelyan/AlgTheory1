{
  "nbformat": 4,
  "nbformat_minor": 0,
  "metadata": {
    "colab": {
      "provenance": []
    },
    "kernelspec": {
      "name": "python3",
      "display_name": "Python 3"
    },
    "language_info": {
      "name": "python"
    }
  },
  "cells": [
    {
      "cell_type": "code",
      "execution_count": 27,
      "metadata": {
        "colab": {
          "base_uri": "https://localhost:8080/"
        },
        "id": "RqU3uc5B6P9b",
        "outputId": "f8955ca9-cc7c-4e83-9dbe-c9da3a2f90c4"
      },
      "outputs": [
        {
          "output_type": "stream",
          "name": "stdout",
          "text": [
            "['as', 'df', 'asdas', 'asasa', 'asdasd', 'asdasdasd']\n",
            "['as', 'asasa', 'asdas', 'asdasd', 'asdasdasd', 'df']\n"
          ]
        }
      ],
      "source": [
        "\n",
        "x = ['asdasd', 'asdasdasd','asdas','as','df', 'asasa']\n",
        "y = {}\n",
        "\n",
        "for i in range(len(x)):\n",
        "  count = 0\n",
        "  for j in x[i]:\n",
        "    count+=1\n",
        "  if count not in y:\n",
        "    y[count] = []\n",
        "  y[count].append(x[i])\n",
        "\n",
        "sk = list(y.keys())\n",
        "sk.sort()\n",
        "\n",
        "#sorting list by lengths\n",
        "sorted_dict = {i : y[i] for i in sk}\n",
        "sorted_list = list(sorted_dict.values())\n",
        "flat_list = []\n",
        "\n",
        "for i in sorted_list:\n",
        "  for j in i:\n",
        "    flat_list.append(j)\n",
        "print(flat_list)\n",
        "\n",
        "#sorting by ASCII\n",
        "for i in range(len(flat_list)):\n",
        "    for j in range(len(flat_list) - 1):\n",
        "        if flat_list[j] > flat_list[j + 1]:\n",
        "            flat_list[j], flat_list[j + 1] = flat_list[j + 1], flat_list[j]\n",
        "\n",
        "\n",
        "print(flat_list)\n"
      ]
    },
    {
      "cell_type": "code",
      "source": [
        "\n"
      ],
      "metadata": {
        "id": "K1uJml1w6Y1O",
        "colab": {
          "base_uri": "https://localhost:8080/"
        },
        "outputId": "7d46e12d-362b-4cd1-81b2-26dc810f692f"
      },
      "execution_count": 23,
      "outputs": [
        {
          "output_type": "stream",
          "name": "stdout",
          "text": [
            "['as', 'asasa', 'asdas', 'asdasd', 'asdasdasd', 'df']\n"
          ]
        }
      ]
    },
    {
      "cell_type": "code",
      "source": [],
      "metadata": {
        "id": "Klv5Okqhfvtc"
      },
      "execution_count": null,
      "outputs": []
    }
  ]
}