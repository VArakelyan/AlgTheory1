{
  "nbformat": 4,
  "nbformat_minor": 0,
  "metadata": {
    "colab": {
      "provenance": []
    },
    "kernelspec": {
      "name": "python3",
      "display_name": "Python 3"
    },
    "language_info": {
      "name": "python"
    }
  },
  "cells": [
    {
      "cell_type": "code",
      "execution_count": 17,
      "metadata": {
        "colab": {
          "base_uri": "https://localhost:8080/"
        },
        "id": "YGnXPa4YpkoH",
        "outputId": "0cedc0ad-b6d0-408f-f583-56f9a15d57db"
      },
      "outputs": [
        {
          "output_type": "stream",
          "name": "stdout",
          "text": [
            "[1, 2, 3, 4, 5] array is already sorted\n",
            "[-2, 2, 3, 4, 4, 5, 6]\n",
            "[1, 2, 3, 4, 5, 6, 9]\n"
          ]
        }
      ],
      "source": [
        "def insertion_sort(arr):\n",
        "  n = len(arr)\n",
        "  count = 0\n",
        "  for i in range(0, n-1):\n",
        "    if arr[i] > arr[i+1]:\n",
        "      count += 1\n",
        "      break\n",
        "  if count > 0:\n",
        "    for i in range(1, n):\n",
        "        k = arr[i]\n",
        "        for j in range(i-1,-1,-1):\n",
        "          if arr[j] > k:\n",
        "            arr[j + 1] = arr[j]\n",
        "          else:\n",
        "            arr[j + 1] = k\n",
        "            break\n",
        "        else:\n",
        "          arr[0] = k\n",
        "  else:\n",
        "    return print(str(arr) + ' ' + 'array is already sorted')\n",
        "\n",
        "  return print(arr)\n",
        "\n",
        "#case 1 (sorted array)\n",
        "a = [1,2,3,4,5]\n",
        "insertion_sort(a)\n",
        "\n",
        "#case 2\n",
        "b = [4,3,2,6,5,4,-2]\n",
        "insertion_sort(b)\n",
        "\n",
        "#case 3\n",
        "c = [9,1,2,3,4,5,6]\n",
        "insertion_sort(c)\n"
      ]
    },
    {
      "cell_type": "code",
      "source": [],
      "metadata": {
        "id": "AfJWTDlFr83d"
      },
      "execution_count": null,
      "outputs": []
    }
  ]
}