{
  "nbformat": 4,
  "nbformat_minor": 0,
  "metadata": {
    "colab": {
      "provenance": []
    },
    "kernelspec": {
      "name": "python3",
      "display_name": "Python 3"
    },
    "language_info": {
      "name": "python"
    }
  },
  "cells": [
    {
      "cell_type": "code",
      "execution_count": 11,
      "metadata": {
        "colab": {
          "base_uri": "https://localhost:8080/"
        },
        "id": "bQTBdLB0AU9J",
        "outputId": "6e7f2db2-88a1-4fa7-934f-aa564cb24ba6"
      },
      "outputs": [
        {
          "output_type": "stream",
          "name": "stdout",
          "text": [
            "[-4, 1, 2, 5, 5, 7.3, 33]\n"
          ]
        }
      ],
      "source": [
        "def selection_sort(arr):\n",
        "\n",
        "  n = len(arr)\n",
        "\n",
        "  for i in range(n - 1):\n",
        "    pointer = i\n",
        "\n",
        "    for j in range(i+1,n):\n",
        "      if arr[pointer] > arr[j]:\n",
        "        pointer = j\n",
        "\n",
        "    if pointer != i:\n",
        "      arr[i], arr[pointer] = arr[pointer], arr[i]\n",
        "\n",
        "  return arr\n",
        "\n",
        "a = [1,5,33,2,-4,5,7.3]\n",
        "print(selection_sort(a))\n"
      ]
    },
    {
      "cell_type": "code",
      "source": [],
      "metadata": {
        "id": "9hLppbRDBoe0"
      },
      "execution_count": null,
      "outputs": []
    }
  ]
}