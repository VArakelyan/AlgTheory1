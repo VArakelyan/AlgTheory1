{
  "nbformat": 4,
  "nbformat_minor": 0,
  "metadata": {
    "colab": {
      "provenance": []
    },
    "kernelspec": {
      "name": "python3",
      "display_name": "Python 3"
    },
    "language_info": {
      "name": "python"
    }
  },
  "cells": [
    {
      "cell_type": "code",
      "execution_count": 14,
      "metadata": {
        "colab": {
          "base_uri": "https://localhost:8080/"
        },
        "id": "DVXGf3labcvM",
        "outputId": "cf168023-8619-46d7-dd45-c65fcd873f3d"
      },
      "outputs": [
        {
          "output_type": "execute_result",
          "data": {
            "text/plain": [
              "[-7, 1.2, 2, 4, 5, 5, 6, 7, 8, 9]"
            ]
          },
          "metadata": {},
          "execution_count": 14
        }
      ],
      "source": [
        "k = [2,8,5,7,9,6,5,4,-7,1.2]\n",
        "\n",
        "\n",
        "def insertion_sort(arr):\n",
        "  n = len(arr)\n",
        "\n",
        "  for i in range(1, n):\n",
        "    x = arr[i]\n",
        "    j = i - 1\n",
        "\n",
        "    while (j >= 0 and arr[j] > x):\n",
        "      arr[j + 1] = arr[j]\n",
        "      j -= 1\n",
        "    arr[j + 1] = x\n",
        "\n",
        "  return arr\n",
        "\n",
        "insertion_sort(k)"
      ]
    },
    {
      "cell_type": "code",
      "source": [
        ""
      ],
      "metadata": {
        "id": "v3F5m4dAdKbF"
      },
      "execution_count": null,
      "outputs": []
    }
  ]
}