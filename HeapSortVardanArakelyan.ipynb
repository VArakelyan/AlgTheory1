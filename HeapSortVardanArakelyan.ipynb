{
  "nbformat": 4,
  "nbformat_minor": 0,
  "metadata": {
    "colab": {
      "provenance": []
    },
    "kernelspec": {
      "name": "python3",
      "display_name": "Python 3"
    },
    "language_info": {
      "name": "python"
    }
  },
  "cells": [
    {
      "cell_type": "code",
      "source": [
        "def h(arr,n,i):\n",
        "  largest = i\n",
        "  l = 2*i +1\n",
        "  r = 2*i +2\n",
        "\n",
        "  if l < n and arr[largest] < arr[l]:\n",
        "    largest = l\n",
        "  if r < n and arr[largest] < arr[r]:\n",
        "    largest = r\n",
        "\n",
        "  if largest != i:\n",
        "    arr[i], arr[largest] = arr[largest], arr[i]\n",
        "    h(arr,n,largest)\n",
        "\n",
        "def s(arr):\n",
        "  n = len(arr)\n",
        "\n",
        "  for i in range(n//2,-1,-1):\n",
        "    h(arr,n,i)\n",
        "\n",
        "  print(arr)\n",
        "  for i in range(n-1,0,-1):\n",
        "    arr[i], arr[0] = arr[0], arr[i]\n",
        "    h(arr,i,0)\n",
        "\n",
        "\n",
        "k = [9,4,1,22,1,3,4,2,-1]\n",
        "s(k)\n",
        "k"
      ],
      "metadata": {
        "id": "Q5r0hoeeKD9d",
        "colab": {
          "base_uri": "https://localhost:8080/"
        },
        "outputId": "4b668845-21bc-4f43-ca2f-1d93b38055d0"
      },
      "execution_count": 14,
      "outputs": [
        {
          "output_type": "stream",
          "name": "stdout",
          "text": [
            "[22, 9, 4, 4, 1, 3, 1, 2, -1]\n"
          ]
        },
        {
          "output_type": "execute_result",
          "data": {
            "text/plain": [
              "[-1, 1, 1, 2, 3, 4, 4, 9, 22]"
            ]
          },
          "metadata": {},
          "execution_count": 14
        }
      ]
    },
    {
      "cell_type": "code",
      "source": [],
      "metadata": {
        "id": "3WLtii_p1Gae"
      },
      "execution_count": null,
      "outputs": []
    }
  ]
}