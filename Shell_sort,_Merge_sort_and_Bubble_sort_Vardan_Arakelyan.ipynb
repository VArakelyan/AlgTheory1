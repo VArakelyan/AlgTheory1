{
  "nbformat": 4,
  "nbformat_minor": 0,
  "metadata": {
    "colab": {
      "provenance": []
    },
    "kernelspec": {
      "name": "python3",
      "display_name": "Python 3"
    },
    "language_info": {
      "name": "python"
    }
  },
  "cells": [
    {
      "cell_type": "code",
      "execution_count": null,
      "metadata": {
        "colab": {
          "base_uri": "https://localhost:8080/"
        },
        "id": "CF9LFmU99RSP",
        "outputId": "886443f1-a93f-4166-e6d6-60d793f9d363"
      },
      "outputs": [
        {
          "output_type": "execute_result",
          "data": {
            "text/plain": [
              "[1, 1, 2, 2, 3, 3, 3, 4, 4]"
            ]
          },
          "metadata": {},
          "execution_count": 2
        }
      ],
      "source": [
        "def shell(arr):\n",
        "  n = len(arr)\n",
        "  gap = n // 2\n",
        "  while gap > 0:\n",
        "    for i in range(gap, n):\n",
        "      c = arr[i]\n",
        "      j = i\n",
        "\n",
        "      while (j >= gap) and (arr[j-gap] > c):\n",
        "        arr[j] = arr[j-gap]\n",
        "        j = j - gap\n",
        "      arr[j] = c\n",
        "    gap = gap // 2\n",
        "\n",
        "  return arr\n",
        "\n",
        "\n",
        "x = [3,2,3,1,2,1,4,3,4]\n",
        "\n",
        "shell(x)"
      ]
    },
    {
      "cell_type": "code",
      "source": [
        "def mergeSort(arr):\n",
        "  n = len(arr)\n",
        "  if n <= 1:\n",
        "    return arr\n",
        "  mid = n//2\n",
        "  left = arr[:mid]\n",
        "  right = arr[mid:]\n",
        "\n",
        "  left_p = mergeSort(left)\n",
        "  right_p = mergeSort(right)\n",
        "\n",
        "  return merge(left_p,right_p)\n",
        "\n",
        "def merge(left,right):\n",
        "  i, j = 0,0\n",
        "  arr_sorted = []\n",
        "\n",
        "  while i < len(left) and j < len(right):\n",
        "    if left[i] < right[j]:\n",
        "      arr_sorted.append(left[i])\n",
        "      i+=1\n",
        "    else:\n",
        "      arr_sorted.append(right[j])\n",
        "      j+=1\n",
        "\n",
        "  arr_sorted.extend(left[i:])\n",
        "  arr_sorted.extend(right[j:])\n",
        "  return arr_sorted\n",
        "\n",
        "a = [2,3,4,1,2,3,1,1,-4]\n",
        "mergeSort(a)\n"
      ],
      "metadata": {
        "colab": {
          "base_uri": "https://localhost:8080/"
        },
        "id": "XNeO4IxfAa9D",
        "outputId": "a8ad19c5-28cb-4d23-abc9-24228c3e037f"
      },
      "execution_count": 11,
      "outputs": [
        {
          "output_type": "execute_result",
          "data": {
            "text/plain": [
              "[-4, 1, 1, 1, 2, 2, 3, 3, 4]"
            ]
          },
          "metadata": {},
          "execution_count": 11
        }
      ]
    },
    {
      "cell_type": "code",
      "source": [
        "def bubble(arr):\n",
        "  n = len(arr)\n",
        "  for i in range(n):\n",
        "    for j in range(0,n-i-1):\n",
        "      if arr[j] > arr[j+1]:\n",
        "        arr[j], arr[j+1] = arr[j+1], arr[j]\n",
        "  return arr\n",
        "b = [2,3,4,1,2,3,1,1,-4]\n",
        "bubble(b)"
      ],
      "metadata": {
        "colab": {
          "base_uri": "https://localhost:8080/"
        },
        "id": "5y8yzGc9lt83",
        "outputId": "887dbff6-3400-4051-9392-908bb628f7f0"
      },
      "execution_count": 36,
      "outputs": [
        {
          "output_type": "execute_result",
          "data": {
            "text/plain": [
              "[-4, 1, 1, 1, 2, 2, 3, 3, 4]"
            ]
          },
          "metadata": {},
          "execution_count": 36
        }
      ]
    },
    {
      "cell_type": "code",
      "source": [],
      "metadata": {
        "id": "Tt8pPTc2qB0X"
      },
      "execution_count": null,
      "outputs": []
    }
  ]
}