{
  "nbformat": 4,
  "nbformat_minor": 0,
  "metadata": {
    "colab": {
      "provenance": []
    },
    "kernelspec": {
      "name": "python3",
      "display_name": "Python 3"
    },
    "language_info": {
      "name": "python"
    }
  },
  "cells": [
    {
      "cell_type": "code",
      "execution_count": 5,
      "metadata": {
        "colab": {
          "base_uri": "https://localhost:8080/"
        },
        "id": "n293dEY-a98A",
        "outputId": "6fc170ae-0c34-40e5-c128-05ab3fc03234"
      },
      "outputs": [
        {
          "output_type": "stream",
          "name": "stdout",
          "text": [
            "[-675, -7, -4.3, 4.7, 5, 6, 8, 9, 43, 55, 65]\n"
          ]
        }
      ],
      "source": [
        "def partition(arr, l,r):\n",
        "  pivot = arr[(l+r)//2]\n",
        "  i = l\n",
        "  j = r\n",
        "  while(i <= j):\n",
        "    while(arr[i] < pivot ):\n",
        "      i +=1\n",
        "    while(arr[j] > pivot):\n",
        "      j-=1\n",
        "    if(i >= j):\n",
        "      break\n",
        "    arr[i], arr[j] = arr[j], arr[i]\n",
        "    i+=1\n",
        "    j-=1\n",
        "  return j\n",
        "\n",
        "def quickSort(arr,l,r):\n",
        "  if l<r:\n",
        "    q = partition(arr,l,r)\n",
        "    quickSort(arr,l,q)\n",
        "    quickSort(arr,q+1,r)\n",
        "\n",
        "arr = [9,-7,8,5,6,-4.3,55,43,65,4.7,-675]\n",
        "quickSort(arr,0,len(arr)-1)\n",
        "print(arr)"
      ]
    }
  ]
}